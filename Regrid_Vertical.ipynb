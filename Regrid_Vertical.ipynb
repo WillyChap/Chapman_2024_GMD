{
 "cells": [
  {
   "cell_type": "code",
   "execution_count": 1,
   "id": "7322be66-8436-44d1-b28d-06d35504391b",
   "metadata": {},
   "outputs": [],
   "source": [
    "import xarray as xr \n",
    "import pandas as pd\n",
    "import numpy as np\n",
    "import os\n",
    "import geocat.comp as gcomp\n"
   ]
  },
  {
   "cell_type": "markdown",
   "id": "83035325-7afa-4d5b-b802-2983cd84e00b",
   "metadata": {},
   "source": [
    "## Regrid Vertical"
   ]
  },
  {
   "cell_type": "code",
   "execution_count": 5,
   "id": "cb32c71d-ed0c-460b-8017-8009b17a5bbf",
   "metadata": {},
   "outputs": [],
   "source": [
    "dir_in = '/glade/derecho/scratch/wchapman/ADF/FHIST_f09_g16/ts/'\n",
    "filt = '/FHIST_f09_g16.cam.h0.T.197901-200512.nc'\n",
    "filu = '/FHIST_f09_g16.cam.h0.Z3.197901-200512.nc'\n",
    "filz = '/FHIST_f09_g16.cam.h0.Z3.197901-200512.nc'\n",
    "\n",
    "DSt = xr.open_dataset(dir_in+filt,chunks={'time': 10}).sel(lev=1000,method='nearest')\n",
    "DSz = xr.open_dataset(dir_in+filz,chunks={'time': 10})\n",
    "\n",
    "var_name_u = 'Z3'\n",
    "var_name_tbot = 'T'\n",
    "var_name_z = 'Z3'"
   ]
  },
  {
   "cell_type": "code",
   "execution_count": 6,
   "id": "c31680ea-d6f3-44c0-9151-c11278ab4c07",
   "metadata": {},
   "outputs": [],
   "source": [
    "def process_chunk(start_idx, end_idx, DS_u, DS_tbot, DS_z, var_name_u, var_name_tbot, var_name_z, dolevs):\n",
    "    dd = DS_u[var_name_u].isel(time=slice(start_idx, end_idx))\n",
    "    ddps = DS_u['PS'].isel(time=slice(start_idx, end_idx))\n",
    "    ddz = DS_z[var_name_z].sel(lev=1000, method='nearest').isel(time=slice(start_idx, end_idx)) * 9.81\n",
    "    ddtbot = DS_tbot[var_name_tbot].isel(time=slice(start_idx, end_idx))\n",
    "    hyam = DS_u['hyam']\n",
    "    hybm = DS_u['hybm']\n",
    "\n",
    "    INTER = gcomp.interpolation.interp_hybrid_to_pressure(data=dd, ps=ddps, hyam=hyam, hybm=hybm, new_levels=dolevs*100, extrapolate=True, variable='other', t_bot=ddtbot, phi_sfc=ddz)\n",
    "    INTER.load()\n",
    "\n",
    "    return INTER"
   ]
  },
  {
   "cell_type": "code",
   "execution_count": 7,
   "id": "4002ecf1-d184-420f-9303-538c177e926f",
   "metadata": {},
   "outputs": [
    {
     "name": "stdout",
     "output_type": "stream",
     "text": [
      "Processing chunk: 0 to 50\n"
     ]
    },
    {
     "name": "stderr",
     "output_type": "stream",
     "text": [
      "/glade/u/apps/opt/conda/envs/npl-2023b/lib/python3.10/site-packages/geocat/comp/interpolation.py:133: UserWarning: Interpolation point out of data bounds encountered\n",
      "  return func_interpolate(new_levels, xcoords, data, axis=interp_axis)\n"
     ]
    },
    {
     "name": "stdout",
     "output_type": "stream",
     "text": [
      "Processing chunk: 50 to 100\n"
     ]
    },
    {
     "name": "stderr",
     "output_type": "stream",
     "text": [
      "/glade/u/apps/opt/conda/envs/npl-2023b/lib/python3.10/site-packages/geocat/comp/interpolation.py:133: UserWarning: Interpolation point out of data bounds encountered\n",
      "  return func_interpolate(new_levels, xcoords, data, axis=interp_axis)\n"
     ]
    },
    {
     "name": "stdout",
     "output_type": "stream",
     "text": [
      "Processing chunk: 100 to 150\n"
     ]
    },
    {
     "name": "stderr",
     "output_type": "stream",
     "text": [
      "/glade/u/apps/opt/conda/envs/npl-2023b/lib/python3.10/site-packages/geocat/comp/interpolation.py:133: UserWarning: Interpolation point out of data bounds encountered\n",
      "  return func_interpolate(new_levels, xcoords, data, axis=interp_axis)\n"
     ]
    },
    {
     "name": "stdout",
     "output_type": "stream",
     "text": [
      "Processing chunk: 150 to 200\n"
     ]
    },
    {
     "name": "stderr",
     "output_type": "stream",
     "text": [
      "/glade/u/apps/opt/conda/envs/npl-2023b/lib/python3.10/site-packages/geocat/comp/interpolation.py:133: UserWarning: Interpolation point out of data bounds encountered\n",
      "  return func_interpolate(new_levels, xcoords, data, axis=interp_axis)\n"
     ]
    },
    {
     "name": "stdout",
     "output_type": "stream",
     "text": [
      "Processing chunk: 200 to 250\n"
     ]
    },
    {
     "name": "stderr",
     "output_type": "stream",
     "text": [
      "/glade/u/apps/opt/conda/envs/npl-2023b/lib/python3.10/site-packages/geocat/comp/interpolation.py:133: UserWarning: Interpolation point out of data bounds encountered\n",
      "  return func_interpolate(new_levels, xcoords, data, axis=interp_axis)\n"
     ]
    },
    {
     "name": "stdout",
     "output_type": "stream",
     "text": [
      "Processing chunk: 250 to 300\n"
     ]
    },
    {
     "name": "stderr",
     "output_type": "stream",
     "text": [
      "/glade/u/apps/opt/conda/envs/npl-2023b/lib/python3.10/site-packages/geocat/comp/interpolation.py:133: UserWarning: Interpolation point out of data bounds encountered\n",
      "  return func_interpolate(new_levels, xcoords, data, axis=interp_axis)\n"
     ]
    },
    {
     "name": "stdout",
     "output_type": "stream",
     "text": [
      "Processing chunk: 300 to 324\n"
     ]
    },
    {
     "name": "stderr",
     "output_type": "stream",
     "text": [
      "/glade/u/apps/opt/conda/envs/npl-2023b/lib/python3.10/site-packages/geocat/comp/interpolation.py:133: UserWarning: Interpolation point out of data bounds encountered\n",
      "  return func_interpolate(new_levels, xcoords, data, axis=interp_axis)\n"
     ]
    },
    {
     "name": "stdout",
     "output_type": "stream",
     "text": [
      "Writing /glade/derecho/scratch/wchapman/ADF/FHIST_f09_g16/ts///FHIST_f09_g16.cam.h0.plev.Z3.197901-200512.nc\n"
     ]
    }
   ],
   "source": [
    "DS_u = DSz\n",
    "\n",
    "DS_tbot = DSt\n",
    "\n",
    "DS_z = DSz\n",
    "\n",
    "\n",
    "lendo = len(DS_u['time'])\n",
    "chunk_size = 50\n",
    "\n",
    "dolevs = np.array([80., 100., 150., 200., 250., 300., 400., 500., 600., 700., 850., 925., 1000.])\n",
    "all_chunks = []\n",
    "\n",
    "for start_idx in range(0, lendo, chunk_size):\n",
    "    end_idx = min(start_idx + chunk_size, lendo)\n",
    "    print(f'Processing chunk: {start_idx} to {end_idx}')\n",
    "    chunk = process_chunk(start_idx, end_idx, DS_u, DS_tbot, DS_z, var_name_u, var_name_tbot, var_name_z, dolevs)\n",
    "    all_chunks.append(chunk)\n",
    "\n",
    "INTER = xr.concat(all_chunks, dim='time')\n",
    "\n",
    "INTER = INTER.rename({'plev':'level'})\n",
    "INTER['level'] = dolevs\n",
    "INTER.level.attrs['long_name'] = 'pressure_level'\n",
    "INTER.level.attrs['units'] = 'millibars'\n",
    "INTER.level.attrs['axis'] = 'Z'\n",
    "\n",
    "INTER = INTER.to_dataset(name=var_name_u)\n",
    "INTER['time'] = INTER['time'].astype(\"datetime64[ns]\")\n",
    "INTER[var_name_u] = INTER[var_name_u].astype(\"float32\")\n",
    "\n",
    "splitter = f'.{var_name_u}.'\n",
    "outfil = f'{dir_in}/{filu.split(splitter)[0]}.plev.{var_name_u}.{filu.split(splitter)[1]}'\n",
    "print(f'Writing {outfil}')\n",
    "INTER = INTER.rename({'level':'lev'})\n",
    "INTER.to_netcdf(outfil)"
   ]
  },
  {
   "cell_type": "code",
   "execution_count": null,
   "id": "040a10f9-1b56-4902-9b37-76c4833e508e",
   "metadata": {},
   "outputs": [],
   "source": []
  }
 ],
 "metadata": {
  "kernelspec": {
   "display_name": "NPL 2023b",
   "language": "python",
   "name": "npl-2023b"
  },
  "language_info": {
   "codemirror_mode": {
    "name": "ipython",
    "version": 3
   },
   "file_extension": ".py",
   "mimetype": "text/x-python",
   "name": "python",
   "nbconvert_exporter": "python",
   "pygments_lexer": "ipython3",
   "version": "3.10.12"
  }
 },
 "nbformat": 4,
 "nbformat_minor": 5
}
